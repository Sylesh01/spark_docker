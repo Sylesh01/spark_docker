{
 "cells": [
  {
   "cell_type": "code",
   "execution_count": null,
   "metadata": {},
   "outputs": [],
   "source": [
    "from pyspark.sql import SparkSession\n",
    "\n",
    "# Create SparkSession\n",
    "spark = SparkSession.builder \\\n",
    "    .master(\"spark://spark:7077\") \\\n",
    "    .appName(\"Jupyter-Spark\") \\\n",
    "    .getOrCreate()\n",
    "\n",
    "# Test the connection\n",
    "spark.range(5).show()\n",
    "\n",
    "# Stop SparkSession when done\n",
    "spark.stop()"
   ]
  }
 ],
 "metadata": {
  "language_info": {
   "name": "python"
  }
 },
 "nbformat": 4,
 "nbformat_minor": 2
}
